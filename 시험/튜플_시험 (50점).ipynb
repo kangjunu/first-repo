{
  "cells": [
    {
      "cell_type": "markdown",
      "metadata": {
        "id": "oaeX_1OCkFsS"
      },
      "source": [
        "##준우를 위한 튜플 연습문제\n"
      ]
    },
    {
      "cell_type": "markdown",
      "metadata": {
        "id": "5o6t62oSj9hD"
      },
      "source": [
        "1. 튜플과 리스트의 차이는 무엇인가?"
      ]
    },
    {
      "attachments": {},
      "cell_type": "markdown",
      "metadata": {
        "id": "lSy6AtmSlKrE"
      },
      "source": [
        "1번 답:리스트는 그 값의 생성 수정이가능하다 하지만 듀플은 바꿀수없다"
      ]
    },
    {
      "cell_type": "markdown",
      "metadata": {
        "id": "6pYM_GyKkBZx"
      },
      "source": [
        "2. my_name 이란 이름의 비어있는 튜플을 만들어라.\n"
      ]
    },
    {
      "cell_type": "code",
      "execution_count": 5,
      "metadata": {
        "id": "JESiWyfBkY-I"
      },
      "outputs": [],
      "source": [
        "my_name=()"
      ]
    },
    {
      "cell_type": "markdown",
      "metadata": {
        "id": "gmItbJAikbQX"
      },
      "source": [
        "3. 숫자 1 이 저장된 튜플을 생성하라."
      ]
    },
    {
      "cell_type": "code",
      "execution_count": 2,
      "metadata": {},
      "outputs": [],
      "source": [
        "a=(1,)"
      ]
    },
    {
      "cell_type": "code",
      "execution_count": 4,
      "metadata": {},
      "outputs": [
        {
          "name": "stdout",
          "output_type": "stream",
          "text": [
            "(1,)\n"
          ]
        },
        {
          "data": {
            "text/plain": [
              "tuple"
            ]
          },
          "execution_count": 4,
          "metadata": {},
          "output_type": "execute_result"
        }
      ],
      "source": [
        "print(a)\n",
        "\n",
        "type(a)"
      ]
    },
    {
      "attachments": {},
      "cell_type": "markdown",
      "metadata": {},
      "source": [
        "#\n",
        "4. 아래의 코드를 실행했을 때 문제점은 무엇인가?\n"
      ]
    },
    {
      "cell_type": "code",
      "execution_count": 6,
      "metadata": {
        "id": "Uw7OZ-Ask-r1"
      },
      "outputs": [
        {
          "ename": "TypeError",
          "evalue": "'tuple' object does not support item assignment",
          "output_type": "error",
          "traceback": [
            "\u001b[1;31m---------------------------------------------------------------------------\u001b[0m",
            "\u001b[1;31mTypeError\u001b[0m                                 Traceback (most recent call last)",
            "Cell \u001b[1;32mIn[6], line 2\u001b[0m\n\u001b[0;32m      1\u001b[0m t \u001b[39m=\u001b[39m (\u001b[39m1\u001b[39m, \u001b[39m2\u001b[39m, \u001b[39m3\u001b[39m)\n\u001b[1;32m----> 2\u001b[0m t[\u001b[39m0\u001b[39;49m] \u001b[39m=\u001b[39m \u001b[39m'\u001b[39m\u001b[39ma\u001b[39m\u001b[39m'\u001b[39m\n",
            "\u001b[1;31mTypeError\u001b[0m: 'tuple' object does not support item assignment"
          ]
        }
      ],
      "source": [
        "t = (1, 2, 3)\n",
        "t[0] = 'a'"
      ]
    },
    {
      "attachments": {},
      "cell_type": "markdown",
      "metadata": {
        "id": "cv1j4OEjk_VN"
      },
      "source": [
        "4번 답:튜플은 수정할 수 없다"
      ]
    },
    {
      "cell_type": "markdown",
      "metadata": {
        "id": "yld4SivplOqu"
      },
      "source": [
        "5. 다음 튜플을 리스트로 변환하라."
      ]
    },
    {
      "cell_type": "code",
      "execution_count": 8,
      "metadata": {
        "id": "w5k6nO7LldkH"
      },
      "outputs": [
        {
          "data": {
            "text/plain": [
              "tuple"
            ]
          },
          "execution_count": 8,
          "metadata": {},
          "output_type": "execute_result"
        }
      ],
      "source": [
        "office_supplies = ('지우개', '연필', '노트')\n",
        "type(office_supplies)"
      ]
    },
    {
      "cell_type": "code",
      "execution_count": 13,
      "metadata": {},
      "outputs": [
        {
          "data": {
            "text/plain": [
              "list"
            ]
          },
          "execution_count": 13,
          "metadata": {},
          "output_type": "execute_result"
        }
      ],
      "source": [
        "office_supplies= list(office_supplies)\n",
        "type(office_supplies)"
      ]
    },
    {
      "cell_type": "markdown",
      "metadata": {
        "id": "oPg3TCoulfue"
      },
      "source": [
        "6. t1=(1, 2, 3)이라는 튜플이 있다. t1튜플이 1,2,3,4의 값을 갖게 하라."
      ]
    },
    {
      "cell_type": "code",
      "execution_count": 18,
      "metadata": {
        "id": "Ctjq6bLimj1U"
      },
      "outputs": [
        {
          "name": "stdout",
          "output_type": "stream",
          "text": [
            "(1, 2, 3, 4)\n"
          ]
        },
        {
          "data": {
            "text/plain": [
              "tuple"
            ]
          },
          "execution_count": 18,
          "metadata": {},
          "output_type": "execute_result"
        }
      ],
      "source": [
        "t1=(1, 2, 3)\n",
        "t1=(1, 2, 3, 4)\n",
        "print(t1)\n",
        "type(t1)"
      ]
    },
    {
      "attachments": {},
      "cell_type": "markdown",
      "metadata": {},
      "source": [
        "\n",
        "##총점 : 50"
      ]
    },
    {
      "attachments": {},
      "cell_type": "markdown",
      "metadata": {},
      "source": [
        "success:1,2,3\n",
        "miss: 4,5,6"
      ]
    }
  ],
  "metadata": {
    "colab": {
      "provenance": [],
      "toc_visible": true
    },
    "kernelspec": {
      "display_name": "Python 3",
      "language": "python",
      "name": "python3"
    },
    "language_info": {
      "codemirror_mode": {
        "name": "ipython",
        "version": 3
      },
      "file_extension": ".py",
      "mimetype": "text/x-python",
      "name": "python",
      "nbconvert_exporter": "python",
      "pygments_lexer": "ipython3",
      "version": "3.10.9 (tags/v3.10.9:1dd9be6, Dec  6 2022, 20:01:21) [MSC v.1934 64 bit (AMD64)]"
    },
    "vscode": {
      "interpreter": {
        "hash": "21714ef9a6ec569ed91d5772a8ace24579f05a49fc3f69f3cf426e527b249ac4"
      }
    }
  },
  "nbformat": 4,
  "nbformat_minor": 0
}
